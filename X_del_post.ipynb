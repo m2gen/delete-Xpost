{
 "cells": [
  {
   "cell_type": "code",
   "execution_count": 1,
   "id": "6d388d18-d7f8-4f61-b29a-6783ca8f32d2",
   "metadata": {},
   "outputs": [],
   "source": [
    "from selenium import webdriver\n",
    "from time import sleep"
   ]
  },
  {
   "cell_type": "code",
   "execution_count": 2,
   "id": "786be305-0ca9-4b11-b72e-19b3d1efd45f",
   "metadata": {},
   "outputs": [],
   "source": [
    "USERNAME = \"xxxxxxxx\"\n",
    "PASSWORD = \"xxxxxxxx\""
   ]
  },
  {
   "cell_type": "code",
   "execution_count": 3,
   "id": "e965d0b3-76a2-44be-bb2d-6c4177aa878c",
   "metadata": {},
   "outputs": [],
   "source": [
    "driver = webdriver.Chrome(r\"C:\\Users\\user\\chromedriver-win64\\chromedriver-win64\\chromedriver.exe\")\n",
    "target_url = \"https://twitter.com/login\"\n",
    "driver.get(target_url)\n",
    "sleep(3)"
   ]
  },
  {
   "cell_type": "code",
   "execution_count": 4,
   "id": "85cdbcbe-ca02-4b5e-bd6e-f1e2b688c787",
   "metadata": {},
   "outputs": [],
   "source": [
    "error_flg = False"
   ]
  },
  {
   "cell_type": "markdown",
   "id": "29fb5318-cab0-40ad-96da-75fc4047e76c",
   "metadata": {},
   "source": [
    "##### ---自動ログイン処理"
   ]
  },
  {
   "cell_type": "code",
   "execution_count": 5,
   "id": "e0e0b396-475c-4099-816e-7efe8a734709",
   "metadata": {},
   "outputs": [],
   "source": [
    "try:\n",
    "\n",
    "    username_input = driver.find_element_by_xpath(\"//input[@autocomplete='username']\")\n",
    "    username_input.send_keys(USERNAME)\n",
    "    sleep(2)\n",
    "    next_button = driver.find_element_by_xpath(\"//span[text()='次へ']\")\n",
    "    next_button.click()\n",
    "    sleep(3)\n",
    "\n",
    "    password_input = driver.find_element_by_xpath(\"//input[@autocomplete='current-password']\")\n",
    "    password_input.send_keys(PASSWORD)\n",
    "    sleep(2)\n",
    "    login_button = driver.find_element_by_xpath(\"//span[text()='ログイン']\")\n",
    "    login_button.click()\n",
    "    sleep(3)\n",
    "\n",
    "except Exception as e:\n",
    "    \n",
    "    error_flg = True\n",
    "    print(f\"エラーが発生しました\", e)"
   ]
  },
  {
   "cell_type": "code",
   "execution_count": 6,
   "id": "6678ae88-e932-43fe-b67a-7d4d912c1c01",
   "metadata": {},
   "outputs": [],
   "source": [
    "from selenium.webdriver.support.ui import WebDriverWait\n",
    "from selenium.webdriver.support import expected_conditions as EC\n",
    "from selenium.webdriver.common.by import By\n",
    "from selenium.common.exceptions import NoSuchElementException"
   ]
  },
  {
   "cell_type": "markdown",
   "id": "ce2bad14-2fca-4a4e-8b2a-2ea03472cf28",
   "metadata": {},
   "source": [
    "##### ---削除処理関数"
   ]
  },
  {
   "cell_type": "code",
   "execution_count": 7,
   "id": "5ba72b13-a55f-495b-807a-83c99d0525df",
   "metadata": {},
   "outputs": [],
   "source": [
    "def delete_post(driver, post):\n",
    "    try:\n",
    "        more_button = WebDriverWait(driver, 10).until(EC.element_to_be_clickable((By.XPATH, \".//div[@aria-label='もっと見る']\")))\n",
    "        driver.execute_script(\"arguments[0].click();\", more_button)\n",
    "        sleep(1)\n",
    "\n",
    "        for _ in range(2):\n",
    "            delete_button = WebDriverWait(driver, 10).until(EC.element_to_be_clickable((By.XPATH, \".//span[text()='削除']\")))\n",
    "            driver.execute_script(\"arguments[0].click();\", delete_button)\n",
    "            sleep(1)\n",
    "    except Exception as e:\n",
    "        print(f\"削除処理でエラーが発生しました:\", e)"
   ]
  },
  {
   "cell_type": "markdown",
   "id": "c54e5cc1-fa85-48fa-bb77-bd7910badb81",
   "metadata": {},
   "source": [
    "##### ---リポスト取り消し処理関数"
   ]
  },
  {
   "cell_type": "code",
   "execution_count": 8,
   "id": "27c4fdd1-4c44-4652-930c-a631511701d7",
   "metadata": {},
   "outputs": [],
   "source": [
    "def undo_repost(driver, post):\n",
    "    try:\n",
    "        repost_button = WebDriverWait(driver, 10).until(EC.element_to_be_clickable((By.XPATH, \".//div[@data-testid='unretweet']\")))\n",
    "        driver.execute_script(\"arguments[0].click();\", repost_button)\n",
    "        sleep(1)\n",
    "\n",
    "        undo_repost = WebDriverWait(driver, 10).until(EC.element_to_be_clickable((By.XPATH, \".//span[text()='ポストを取り消す']\")))\n",
    "        driver.execute_script(\"arguments[0].click();\", undo_repost)\n",
    "        sleep(1)\n",
    "    except Exception as e:\n",
    "        print(f\"リポスト取り消し処理でエラーが発生しました:\", e)"
   ]
  },
  {
   "cell_type": "markdown",
   "id": "7a8ac264-c4f8-4c23-90f9-ceba14da7f65",
   "metadata": {},
   "source": [
    "##### ---プロフィールページに移動して実行"
   ]
  },
  {
   "cell_type": "code",
   "execution_count": 10,
   "id": "87801caa-16e0-48c7-b0ed-0d3cbd8ecf82",
   "metadata": {
    "scrolled": true
   },
   "outputs": [],
   "source": [
    "if not error_flg:\n",
    "    try:\n",
    "        profile_url = \"https://twitter.com/xxxxxxxx\"\n",
    "        driver.get(profile_url)\n",
    "        sleep(3)\n",
    "\n",
    "        i = 0\n",
    "        while True:\n",
    "            posts = driver.find_elements_by_xpath(\".//div[@data-testid='cellInnerDiv']\")\n",
    "            if i >= len(posts):\n",
    "                break\n",
    "\n",
    "            post = posts[i]\n",
    "            try:\n",
    "                sleep(1)\n",
    "                you_reposted = post.find_element_by_xpath(\"//span[text()='あなたがリポストしました']\")\n",
    "            except NoSuchElementException:\n",
    "                you_reposted = None\n",
    "\n",
    "            if not you_reposted:\n",
    "                delete_post(driver, post)\n",
    "            else:\n",
    "                undo_repost(driver, post)\n",
    "\n",
    "            i += 1\n",
    "\n",
    "            if i > 100:\n",
    "                break\n",
    "\n",
    "    except Exception as e:\n",
    "        error_flg = True\n",
    "        print(f\"エラーが発生しました:\", e)"
   ]
  }
 ],
 "metadata": {
  "kernelspec": {
   "display_name": "Python 3 (ipykernel)",
   "language": "python",
   "name": "python3"
  },
  "language_info": {
   "codemirror_mode": {
    "name": "ipython",
    "version": 3
   },
   "file_extension": ".py",
   "mimetype": "text/x-python",
   "name": "python",
   "nbconvert_exporter": "python",
   "pygments_lexer": "ipython3",
   "version": "3.11.5"
  }
 },
 "nbformat": 4,
 "nbformat_minor": 5
}
